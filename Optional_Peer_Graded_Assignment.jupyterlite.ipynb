{
  "metadata": {
    "kernelspec": {
      "name": "python",
      "display_name": "Python (Pyodide)",
      "language": "python"
    },
    "language_info": {
      "codemirror_mode": {
        "name": "python",
        "version": 3
      },
      "file_extension": ".py",
      "mimetype": "text/x-python",
      "name": "python",
      "nbconvert_exporter": "python",
      "pygments_lexer": "ipython3",
      "version": "3.8"
    }
  },
  "nbformat_minor": 4,
  "nbformat": 4,
  "cells": [
    {
      "cell_type": "markdown",
      "source": "<p style=\"text-align:center\">\n    <a href=\"https://skills.network/?utm_medium=Exinfluencer&utm_source=Exinfluencer&utm_content=000026UJ&utm_term=10006555&utm_id=NA-SkillsNetwork-Channel-SkillsNetworkCoursesIBMDeveloperSkillsNetworkST0151ENSkillsNetwork20531532-2022-01-01\" target=\"_blank\">\n    <img src=\"https://cf-courses-data.s3.us.cloud-object-storage.appdomain.cloud/assets/logos/SN_web_lightmode.png\" width=\"200\" alt=\"Skills Network Logo\"  />\n    </a>\n</p>\n\n",
      "metadata": {}
    },
    {
      "cell_type": "markdown",
      "source": "#### Import the required libraries we need for the lab.\n",
      "metadata": {}
    },
    {
      "cell_type": "code",
      "source": "import piplite\nawait piplite.install(['numpy'],['pandas'])\nawait piplite.install(['seaborn'])",
      "metadata": {
        "trusted": true
      },
      "outputs": [],
      "execution_count": 1
    },
    {
      "cell_type": "code",
      "source": "import pandas as pd\nimport pandas as pd\nimport seaborn as sns\nimport matplotlib.pyplot as pyplot\nimport scipy.stats as \nimport statsmodels.api as sm\nfrom statsmodels.formula.api import ols",
      "metadata": {
        "trusted": true
      },
      "outputs": [
        {
          "name": "stderr",
          "text": "<ipython-input-2-b3fdaf15785b>:1: DeprecationWarning: \nPyarrow will become a required dependency of pandas in the next major release of pandas (pandas 3.0),\n(to allow more performant data types, such as the Arrow string type, and better interoperability with other libraries)\nbut was not found to be installed on your system.\nIf this would cause problems for you,\nplease provide us feedback at https://github.com/pandas-dev/pandas/issues/54466\n        \n  import pandas as pd\n",
          "output_type": "stream"
        }
      ],
      "execution_count": 2
    },
    {
      "cell_type": "markdown",
      "source": "#### Read the dataset in the csv file from the URL\n",
      "metadata": {}
    },
    {
      "cell_type": "code",
      "source": "from js import fetch\nimport io\n\nURL = 'https://cf-courses-data.s3.us.cloud-object-storage.appdomain.cloud/IBMDeveloperSkillsNetwork-ST0151EN-SkillsNetwork/labs/boston_housing.csv'\nresp = await fetch(URL)\nboston_url = io.BytesIO((await resp.arrayBuffer()).to_py())",
      "metadata": {
        "trusted": true
      },
      "outputs": [],
      "execution_count": 8
    },
    {
      "cell_type": "code",
      "source": "df = pd.read_csv(boston_url)",
      "metadata": {
        "trusted": true
      },
      "outputs": [],
      "execution_count": 9
    },
    {
      "cell_type": "markdown",
      "source": "#### Add your code below following the instructions given in the course to complete the peer graded assignment\n",
      "metadata": {}
    },
    {
      "cell_type": "code",
      "source": "alpha = 0.05\n\nprint(\"============================================\")\n\nprint(\"ANÁLISIS ESTADÍSTICO - Boston Housing\")\n\nprint(\"============================================\")\n\n\n\n# ------------------------------------------------\n\n#  Prueba T para muestras independientes\n\n# ¿Existe una diferencia significativa en el valor medio de las casas (MEDV)\n\n# delimitadas por el río Charles (CHAS)?\n\n# ------------------------------------------------\n\nprint(\"\\n PRUEBA T - Río Charles vs MEDV\")\n\nchas_1 = df[df['CHAS'] == 1]['MEDV']\n\nchas_0 = df[df['CHAS'] == 0]['MEDV']\n\n\n\nt_stat, p_val = stats.ttest_ind(chas_1, chas_0)\n\nprint(f\"T = {t_stat:.4f}, p = {p_val:.4f}\")\n\nif p_val < alpha:\n\n    print(\"→ Se rechaza H0: hay diferencia significativa en el valor medio de las casas.\")\n\nelse:\n\n    print(\"→ No se rechaza H0: no hay diferencia significativa en el valor medio.\")\n\n\n\n# ------------------------------------------------\n\n#  ANOVA\n\n# ¿Existe alguna diferencia en los valores medios de las casas (MEDV)\n\n# para cada proporción de AGE (propiedades construidas antes de 1940)?\n\n# ------------------------------------------------\n\nprint(\"\\n ANOVA - AGE vs MEDV\")\n\n# Crear grupos por rangos de antigüedad\n\ndf['AGE_group'] = pd.cut(df['AGE'], bins=[0, 35, 70, 100], labels=['Bajo', 'Medio', 'Alto'])\n\n\n\nanova_model = ols('MEDV ~ C(AGE_group)', data=df).fit()\n\nanova_table = sm.stats.anova_lm(anova_model, typ=2)\n\np_anova = anova_table[\"PR(>F)\"][0]\n\nprint(anova_table)\n\nif p_anova < alpha:\n\n    print(\"→ Se rechaza H0: hay diferencias significativas en el valor medio entre grupos de antigüedad.\")\n\nelse:\n\n    print(\"→ No se rechaza H0: no hay diferencias significativas entre los grupos.\")\n\n\n\n# ------------------------------------------------\n\n# Correlación de Pearson\n\n# ¿Existe relación entre la concentración de óxido nítrico (NOX)\n\n# y la proporción de acres comerciales no minoristas por ciudad (INDUS)?\n\n# ------------------------------------------------\n\nprint(\"\\n CORRELACIÓN DE PEARSON - NOX vs INDUS\")\n\ncorr, p_corr = stats.pearsonr(df['NOX'], df['INDUS'])\n\nprint(f\"Coeficiente de correlación r = {corr:.4f}, p = {p_corr:.4f}\")\n\nif p_corr < alpha:\n\n    print(\"→ Se rechaza H0: existe relación significativa entre NOX e INDUS.\")\n\nelse:\n\n    print(\"→ No se rechaza H0: no hay relación significativa entre NOX e INDUS.\")\n\n\n\n# ------------------------------------------------\n\n#  Regresión lineal\n\n# ¿Cuál es el impacto de la distancia (DIS) a los centros de empleo sobre MEDV?\n\n# ------------------------------------------------\n\nprint(\"\\n4️⃣ REGRESIÓN LINEAL - DIS vs MEDV\")\n\nreg_model = ols('MEDV ~ DIS', data=df).fit()\n\nprint(reg_model.summary())\n\n\n\np_reg = reg_model.pvalues['DIS']\n\nif p_reg < alpha:\n\n    print(\"→ Se rechaza H0: la distancia tiene un impacto significativo sobre el valor medio de las viviendas.\")\n\nelse:\n\n    print(\"→ No se rechaza H0: la distancia no tiene un impacto significativo sobre el valor medio de las viviendas.\")\n\n",
      "metadata": {
        "trusted": true
      },
      "outputs": [
        {
          "name": "stdout",
          "text": "============================================\nANÁLISIS ESTADÍSTICO - Boston Housing\n============================================\n\n PRUEBA T - Río Charles vs MEDV\n",
          "output_type": "stream"
        },
        {
          "ename": "<class 'NameError'>",
          "evalue": "name 'stats' is not defined",
          "traceback": [
            "\u001b[0;31m---------------------------------------------------------------------------\u001b[0m",
            "\u001b[0;31mNameError\u001b[0m                                 Traceback (most recent call last)",
            "Cell \u001b[0;32mIn[10], line 29\u001b[0m\n\u001b[1;32m     23\u001b[0m chas_1 \u001b[38;5;241m=\u001b[39m df[df[\u001b[38;5;124m'\u001b[39m\u001b[38;5;124mCHAS\u001b[39m\u001b[38;5;124m'\u001b[39m] \u001b[38;5;241m==\u001b[39m \u001b[38;5;241m1\u001b[39m][\u001b[38;5;124m'\u001b[39m\u001b[38;5;124mMEDV\u001b[39m\u001b[38;5;124m'\u001b[39m]\n\u001b[1;32m     25\u001b[0m chas_0 \u001b[38;5;241m=\u001b[39m df[df[\u001b[38;5;124m'\u001b[39m\u001b[38;5;124mCHAS\u001b[39m\u001b[38;5;124m'\u001b[39m] \u001b[38;5;241m==\u001b[39m \u001b[38;5;241m0\u001b[39m][\u001b[38;5;124m'\u001b[39m\u001b[38;5;124mMEDV\u001b[39m\u001b[38;5;124m'\u001b[39m]\n\u001b[0;32m---> 29\u001b[0m t_stat, p_val \u001b[38;5;241m=\u001b[39m \u001b[43mstats\u001b[49m\u001b[38;5;241m.\u001b[39mttest_ind(chas_1, chas_0)\n\u001b[1;32m     31\u001b[0m \u001b[38;5;28mprint\u001b[39m(\u001b[38;5;124mf\u001b[39m\u001b[38;5;124m\"\u001b[39m\u001b[38;5;124mT = \u001b[39m\u001b[38;5;132;01m{\u001b[39;00mt_stat\u001b[38;5;132;01m:\u001b[39;00m\u001b[38;5;124m.4f\u001b[39m\u001b[38;5;132;01m}\u001b[39;00m\u001b[38;5;124m, p = \u001b[39m\u001b[38;5;132;01m{\u001b[39;00mp_val\u001b[38;5;132;01m:\u001b[39;00m\u001b[38;5;124m.4f\u001b[39m\u001b[38;5;132;01m}\u001b[39;00m\u001b[38;5;124m\"\u001b[39m)\n\u001b[1;32m     33\u001b[0m \u001b[38;5;28;01mif\u001b[39;00m p_val \u001b[38;5;241m<\u001b[39m alpha:\n",
            "\u001b[0;31mNameError\u001b[0m: name 'stats' is not defined"
          ],
          "output_type": "error"
        }
      ],
      "execution_count": 10
    },
    {
      "cell_type": "code",
      "source": "",
      "metadata": {
        "trusted": true
      },
      "outputs": [],
      "execution_count": null
    }
  ]
}