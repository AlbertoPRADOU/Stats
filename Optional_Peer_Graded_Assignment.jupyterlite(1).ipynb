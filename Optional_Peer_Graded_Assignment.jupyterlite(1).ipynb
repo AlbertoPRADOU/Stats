{
  "metadata": {
    "kernelspec": {
      "name": "python",
      "display_name": "Python (Pyodide)",
      "language": "python"
    },
    "language_info": {
      "codemirror_mode": {
        "name": "python",
        "version": 3
      },
      "file_extension": ".py",
      "mimetype": "text/x-python",
      "name": "python",
      "nbconvert_exporter": "python",
      "pygments_lexer": "ipython3",
      "version": "3.8"
    }
  },
  "nbformat_minor": 4,
  "nbformat": 4,
  "cells": [
    {
      "cell_type": "markdown",
      "source": "<p style=\"text-align:center\">\n    <a href=\"https://skills.network/?utm_medium=Exinfluencer&utm_source=Exinfluencer&utm_content=000026UJ&utm_term=10006555&utm_id=NA-SkillsNetwork-Channel-SkillsNetworkCoursesIBMDeveloperSkillsNetworkST0151ENSkillsNetwork20531532-2022-01-01\" target=\"_blank\">\n    <img src=\"https://cf-courses-data.s3.us.cloud-object-storage.appdomain.cloud/assets/logos/SN_web_lightmode.png\" width=\"200\" alt=\"Skills Network Logo\"  />\n    </a>\n</p>\n\n",
      "metadata": {}
    },
    {
      "cell_type": "markdown",
      "source": "#### Import the required libraries we need for the lab.\n",
      "metadata": {}
    },
    {
      "cell_type": "code",
      "source": "import piplite\nawait piplite.install(['numpy'],['pandas'])\nawait piplite.install(['seaborn'])",
      "metadata": {
        "trusted": true
      },
      "outputs": [],
      "execution_count": 1
    },
    {
      "cell_type": "code",
      "source": "import pandas as pd\nimport pandas as pd\nimport seaborn as sns\nimport matplotlib.pyplot as pyplot\nimport scipy.stats as stats\nimport statsmodels.api as sm\nfrom statsmodels.formula.api import ols",
      "metadata": {
        "trusted": true
      },
      "outputs": [],
      "execution_count": 11
    },
    {
      "cell_type": "markdown",
      "source": "#### Read the dataset in the csv file from the URL\n",
      "metadata": {}
    },
    {
      "cell_type": "code",
      "source": "from js import fetch\nimport io\n\nURL = 'https://cf-courses-data.s3.us.cloud-object-storage.appdomain.cloud/IBMDeveloperSkillsNetwork-ST0151EN-SkillsNetwork/labs/boston_housing.csv'\nresp = await fetch(URL)\nboston_url = io.BytesIO((await resp.arrayBuffer()).to_py())",
      "metadata": {
        "trusted": true
      },
      "outputs": [],
      "execution_count": 12
    },
    {
      "cell_type": "code",
      "source": "df = pd.read_csv(boston_url)",
      "metadata": {
        "trusted": true
      },
      "outputs": [],
      "execution_count": 13
    },
    {
      "cell_type": "markdown",
      "source": "#### Add your code below following the instructions given in the course to complete the peer graded assignment\n",
      "metadata": {}
    },
    {
      "cell_type": "code",
      "source": "alpha = 0.05\n\n# ============================================\n# Tarea 2 - Estadísticas descriptivas y visualizaciones\n# ============================================\n\nimport matplotlib.pyplot as plt\nimport seaborn as sns\n\n# Estilo visual\nsns.set(style=\"whitegrid\", palette=\"muted\")\nplt.rcParams[\"figure.figsize\"] = (7, 5)\n\n# ------------------------------------------------\n# 1️⃣ Boxplot - Valor medio de las viviendas ocupadas por sus propietarios (MEDV)\n# ------------------------------------------------\nplt.figure()\nsns.boxplot(y=df[\"MEDV\"], color=\"skyblue\")\nplt.title(\"Distribución del valor medio de las viviendas (MEDV)\")\nplt.ylabel(\"Valor medio ($1000 USD)\")\nplt.xlabel(\"Viviendas ocupadas por propietarios\")\nplt.show()\n\n# ------------------------------------------------\n# 2️⃣ Diagrama de barras - Río Charles (CHAS)\n# ------------------------------------------------\nplt.figure()\nchas_counts = df[\"CHAS\"].value_counts().sort_index()\nsns.barplot(x=chas_counts.index, y=chas_counts.values, palette=\"pastel\")\nplt.title(\"Número de viviendas según proximidad al río Charles\")\nplt.xlabel(\"CHAS (1 = limita con el río, 0 = no limita)\")\nplt.ylabel(\"Número de viviendas\")\nplt.show()\n\n# ------------------------------------------------\n# 3️⃣ Boxplot - MEDV frente a grupos de edad (AGE)\n# ------------------------------------------------\n# Discretizar la variable AGE en tres grupos\ndf[\"AGE_group\"] = pd.cut(df[\"AGE\"], bins=[0, 35, 70, 100],\n                         labels=[\"≤35 años\", \"35–70 años\", \"≥70 años\"])\nplt.figure()\nsns.boxplot(x=\"AGE_group\", y=\"MEDV\", data=df, palette=\"cool\")\nplt.title(\"Valor medio de las viviendas según antigüedad (AGE)\")\nplt.xlabel(\"Grupo de edad de las viviendas\")\nplt.ylabel(\"Valor medio (MEDV)\")\nplt.show()\n\n# ------------------------------------------------\n# 4️⃣ Diagrama de dispersión - NOX vs INDUS\n# ------------------------------------------------\nplt.figure()\nsns.scatterplot(x=\"INDUS\", y=\"NOX\", data=df, color=\"teal\", s=50)\nplt.title(\"Relación entre NOX y proporción de acres industriales (INDUS)\")\nplt.xlabel(\"Proporción de acres industriales (INDUS)\")\nplt.ylabel(\"Concentración de óxido nítrico (NOX)\")\nplt.show()\n\n# ------------------------------------------------\n# 5️⃣ Histograma - Proporción de alumnos por profesor (PTRATIO)\n# ------------------------------------------------\nplt.figure()\nsns.histplot(df[\"PTRATIO\"], bins=10, kde=True, color=\"coral\")\nplt.title(\"Distribución de la proporción de alumnos por profesor (PTRATIO)\")\nplt.xlabel(\"Proporción de alumnos por profesor\")\nplt.ylabel(\"Frecuencia\")\nplt.show()\n\nprint(\"============================================\")\n\nprint(\"ANÁLISIS ESTADÍSTICO - Boston Housing\")\n\nprint(\"============================================\")\n\n\n\n# ------------------------------------------------\n\n#  Prueba T para muestras independientes\n\n# ¿Existe una diferencia significativa en el valor medio de las casas (MEDV)\n\n# delimitadas por el río Charles (CHAS)?\n\n# ------------------------------------------------\n\nprint(\"\\n PRUEBA T - Río Charles vs MEDV\")\n\nchas_1 = df[df['CHAS'] == 1]['MEDV']\n\nchas_0 = df[df['CHAS'] == 0]['MEDV']\n\n\n\nt_stat, p_val = stats.ttest_ind(chas_1, chas_0)\n\nprint(f\"T = {t_stat:.4f}, p = {p_val:.4f}\")\n\nif p_val < alpha:\n\n    print(\"→ Se rechaza H0: hay diferencia significativa en el valor medio de las casas.\")\n\nelse:\n\n    print(\"→ No se rechaza H0: no hay diferencia significativa en el valor medio.\")\n\n\n\n# ------------------------------------------------\n\n#  ANOVA\n\n# ¿Existe alguna diferencia en los valores medios de las casas (MEDV)\n\n# para cada proporción de AGE (propiedades construidas antes de 1940)?\n\n# ------------------------------------------------\n\nprint(\"\\n ANOVA - AGE vs MEDV\")\n\n# Crear grupos por rangos de antigüedad\n\ndf['AGE_group'] = pd.cut(df['AGE'], bins=[0, 35, 70, 100], labels=['Bajo', 'Medio', 'Alto'])\n\n\n\nanova_model = ols('MEDV ~ C(AGE_group)', data=df).fit()\n\nanova_table = sm.stats.anova_lm(anova_model, typ=2)\n\np_anova = anova_table[\"PR(>F)\"][0]\n\nprint(anova_table)\n\nif p_anova < alpha:\n\n    print(\"→ Se rechaza H0: hay diferencias significativas en el valor medio entre grupos de antigüedad.\")\n\nelse:\n\n    print(\"→ No se rechaza H0: no hay diferencias significativas entre los grupos.\")\n\n\n\n# ------------------------------------------------\n\n# Correlación de Pearson\n\n# ¿Existe relación entre la concentración de óxido nítrico (NOX)\n\n# y la proporción de acres comerciales no minoristas por ciudad (INDUS)?\n\n# ------------------------------------------------\n\nprint(\"\\n CORRELACIÓN DE PEARSON - NOX vs INDUS\")\n\ncorr, p_corr = stats.pearsonr(df['NOX'], df['INDUS'])\n\nprint(f\"Coeficiente de correlación r = {corr:.4f}, p = {p_corr:.4f}\")\n\nif p_corr < alpha:\n\n    print(\"→ Se rechaza H0: existe relación significativa entre NOX e INDUS.\")\n\nelse:\n\n    print(\"→ No se rechaza H0: no hay relación significativa entre NOX e INDUS.\")\n\n\n\n# ------------------------------------------------\n\n#  Regresión lineal\n\n# ¿Cuál es el impacto de la distancia (DIS) a los centros de empleo sobre MEDV?\n\n# ------------------------------------------------\n\nprint(\"\\n4️⃣ REGRESIÓN LINEAL - DIS vs MEDV\")\n\nreg_model = ols('MEDV ~ DIS', data=df).fit()\n\nprint(reg_model.summary())\n\n\n\np_reg = reg_model.pvalues['DIS']\n\nif p_reg < alpha:\n\n    print(\"→ Se rechaza H0: la distancia tiene un impacto significativo sobre el valor medio de las viviendas.\")\n\nelse:\n\n    print(\"→ No se rechaza H0: la distancia no tiene un impacto significativo sobre el valor medio de las viviendas.\")\n\n",
      "metadata": {
        "trusted": true
      },
      "outputs": [
        {
          "name": "stdout",
          "text": "============================================\nANÁLISIS ESTADÍSTICO - Boston Housing\n============================================\n\n PRUEBA T - Río Charles vs MEDV\nT = 3.9964, p = 0.0001\n→ Se rechaza H0: hay diferencia significativa en el valor medio de las casas.\n\n ANOVA - AGE vs MEDV\n",
          "output_type": "stream"
        },
        {
          "name": "stderr",
          "text": "<ipython-input-14-a008c46b42a0>:65: FutureWarning: Series.__getitem__ treating keys as positions is deprecated. In a future version, integer keys will always be treated as labels (consistent with DataFrame behavior). To access a value by position, use `ser.iloc[pos]`\n  p_anova = anova_table[\"PR(>F)\"][0]\n",
          "output_type": "stream"
        },
        {
          "name": "stdout",
          "text": "                    sum_sq     df         F        PR(>F)\nC(AGE_group)   5401.731883    2.0  36.40765  1.710501e-15\nResidual      37314.563532  503.0       NaN           NaN\n→ Se rechaza H0: hay diferencias significativas en el valor medio entre grupos de antigüedad.\n\n CORRELACIÓN DE PEARSON - NOX vs INDUS\nCoeficiente de correlación r = 0.7637, p = 0.0000\n→ Se rechaza H0: existe relación significativa entre NOX e INDUS.\n\n4️⃣ REGRESIÓN LINEAL - DIS vs MEDV\n                            OLS Regression Results                            \n==============================================================================\nDep. Variable:                   MEDV   R-squared:                       0.062\nModel:                            OLS   Adj. R-squared:                  0.061\nMethod:                 Least Squares   F-statistic:                     33.58\nDate:                Sun, 19 Oct 2025   Prob (F-statistic):           1.21e-08\nTime:                        18:53:33   Log-Likelihood:                -1823.9\nNo. Observations:                 506   AIC:                             3652.\nDf Residuals:                     504   BIC:                             3660.\nDf Model:                           1                                         \nCovariance Type:            nonrobust                                         \n==============================================================================\n                 coef    std err          t      P>|t|      [0.025      0.975]\n------------------------------------------------------------------------------\nIntercept     18.3901      0.817     22.499      0.000      16.784      19.996\nDIS            1.0916      0.188      5.795      0.000       0.722       1.462\n==============================================================================\nOmnibus:                      139.779   Durbin-Watson:                   0.570\nProb(Omnibus):                  0.000   Jarque-Bera (JB):              305.104\nSkew:                           1.466   Prob(JB):                     5.59e-67\nKurtosis:                       5.424   Cond. No.                         9.32\n==============================================================================\n\nNotes:\n[1] Standard Errors assume that the covariance matrix of the errors is correctly specified.\n→ Se rechaza H0: la distancia tiene un impacto significativo sobre el valor medio de las viviendas.\n",
          "output_type": "stream"
        }
      ],
      "execution_count": 14
    },
    {
      "cell_type": "code",
      "source": "",
      "metadata": {
        "trusted": true
      },
      "outputs": [],
      "execution_count": null
    }
  ]
}